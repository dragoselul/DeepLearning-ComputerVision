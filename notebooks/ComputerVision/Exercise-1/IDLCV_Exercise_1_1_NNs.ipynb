{
 "cells": [
  {
   "cell_type": "markdown",
   "metadata": {
    "id": "IgdHnzSnzZs2"
   },
   "source": [
    "# # Exercise 1.1\n",
    "\n",
    "## Classification of MNIST digits with a fully-connected neural network\n",
    "\n",
    "In this exercise we will classify [MNIST digits](https://en.wikipedia.org/wiki/MNIST_database) using a fully-connected neural network\n",
    "\n",
    "We start by importing the modules that we need"
   ]
  },
  {
   "cell_type": "code",
   "execution_count": 1,
   "metadata": {
    "id": "n6YTUAAlzZs5"
   },
   "outputs": [],
   "source": [
    "import numpy as np\n",
    "from tqdm.notebook import tqdm\n",
    "import torch\n",
    "import torch.nn as nn\n",
    "import torch.nn.functional as F\n",
    "import torchvision.datasets as datasets\n",
    "from torch.utils.data import DataLoader\n",
    "import torchvision.transforms as transforms\n",
    "import matplotlib.pyplot as plt\n"
   ]
  },
  {
   "cell_type": "markdown",
   "metadata": {
    "id": "sOeRq_xHzZtC"
   },
   "source": [
    "We check that we have a GPU available"
   ]
  },
  {
   "cell_type": "code",
   "execution_count": 2,
   "metadata": {
    "id": "eRKroSgizZtC"
   },
   "outputs": [
    {
     "name": "stdout",
     "output_type": "stream",
     "text": [
      "The code will run on GPU.\n"
     ]
    }
   ],
   "source": [
    "if torch.cuda.is_available():\n",
    "    print(\"The code will run on GPU.\")\n",
    "else:\n",
    "    print(\"The code will run on CPU. Go to Edit->Notebook Settings and choose GPU as the hardware accelerator\")\n",
    "device = torch.device('cuda' if torch.cuda.is_available() else 'cpu')  "
   ]
  },
  {
   "cell_type": "markdown",
   "metadata": {
    "id": "Hf5kG-RszZtG"
   },
   "source": [
    "The MNIST dataset is a built-in dataset in PyTorch (it is a very common dataset to test algorithms on). \n",
    "\n",
    "We import it, and set our minibatch size"
   ]
  },
  {
   "cell_type": "code",
   "execution_count": 3,
   "metadata": {
    "id": "lzZHxNsgzZtH"
   },
   "outputs": [],
   "source": [
    "batch_size = 64\n",
    "trainset = datasets.MNIST('./data', train=True, download=True, transform=transforms.ToTensor())\n",
    "train_loader = DataLoader(trainset, batch_size=batch_size, shuffle=True, num_workers=1)\n",
    "testset = datasets.MNIST('./data', train=False, download=True, transform=transforms.ToTensor())\n",
    "test_loader = DataLoader(testset, batch_size=batch_size, shuffle=False, num_workers=1)"
   ]
  },
  {
   "cell_type": "markdown",
   "metadata": {
    "id": "7xoF9GRL25jq"
   },
   "source": [
    "First, we plot the images to get an idea of what data we're working with. MNIST images are $28\\times28$ images of handwritten digits (0-9)"
   ]
  },
  {
   "cell_type": "code",
   "execution_count": 4,
   "metadata": {
    "id": "mjeITqYf1itt"
   },
   "outputs": [
    {
     "data": {
      "image/png": "[encoded data removed]",
      "text/plain": [
       "<Figure size 2000x1000 with 21 Axes>"
      ]
     },
     "metadata": {},
     "output_type": "display_data"
    }
   ],
   "source": [
    "images, labels = next(iter(train_loader))\n",
    "plt.figure(figsize=(20,10))\n",
    "\n",
    "for i in range(21):\n",
    "    plt.subplot(5,7,i+1)\n",
    "    plt.imshow(images[i].numpy()[0], 'gray')\n",
    "    plt.title(labels[i].item())\n",
    "    plt.axis('off')"
   ]
  },
  {
   "cell_type": "markdown",
   "metadata": {
    "id": "hGuvRy0zzZtP"
   },
   "source": [
    "You should implement a fully-connected network to classify the digits. It should contain 1 hidden layer with 100 units. Don't forget the ReLU activation function after the hidden layer. "
   ]
  },
  {
   "cell_type": "code",
   "execution_count": 5,
   "metadata": {
    "id": "kkWvoY__zZtQ"
   },
   "outputs": [],
   "source": [
    "class Network(nn.Module):\n",
    "    def __init__(self):\n",
    "        super(Network, self).__init__()\n",
    "        self.fully_connected1 = nn.Sequential(\n",
    "            nn.Linear(28*28,200),\n",
    "            nn.ReLU()\n",
    "            )\n",
    "        \n",
    "        self.fully_connected2 = nn.Sequential(\n",
    "            nn.Linear(200,100),\n",
    "            nn.ReLU()\n",
    "            )\n",
    "\n",
    "        self.fully_connected3 = nn.Sequential(\n",
    "            nn.Linear(100,10),\n",
    "            nn.Softmax(dim = 1)\n",
    "            )\n",
    "        \n",
    "    def forward(self, x):\n",
    "      #reshaping x so it becomes flat, except for the first dimension (which is the minibatch)\n",
    "        x = x.view(x.size(0),-1)\n",
    "        x = self.fully_connected1(x)\n",
    "        x = self.fully_connected2(x)\n",
    "        x = self.fully_connected3(x)\n",
    "        return x"
   ]
  },
  {
   "cell_type": "markdown",
   "metadata": {
    "id": "_i2qWBsNzZtU"
   },
   "source": [
    "We instantiate a copy of our network and transfer it to the GPU if it's available"
   ]
  },
  {
   "cell_type": "code",
   "execution_count": 6,
   "metadata": {
    "id": "VJVToX8hzZtV"
   },
   "outputs": [],
   "source": [
    "model = Network()\n",
    "model.to(device)\n",
    "#Initialize the optimer\n",
    "optimizer = torch.optim.SGD(model.parameters(), lr=0.4)"
   ]
  },
  {
   "cell_type": "code",
   "execution_count": 7,
   "metadata": {},
   "outputs": [],
   "source": [
    "@torch.no_grad()\n",
    "def preview_batch(model, loader, device, n=16, title=\"Validation preview\"):\n",
    "    \"\"\"Show n samples with predicted probs and ground truth; green=correct, red=wrong.\"\"\"\n",
    "    model.eval()\n",
    "    x, y = next(iter(loader))                 # one batch\n",
    "    x, y = x.to(device), y.to(device)\n",
    "    logits = model(x)\n",
    "    # If your model ends with LogSoftmax, use: probs = logits.exp()\n",
    "    probs = F.softmax(logits, dim=1)\n",
    "    conf, pred = probs.max(dim=1)\n",
    "\n",
    "    n = min(n, x.size(0))\n",
    "    cols = min(8, n)\n",
    "    rows = int(np.ceil(n / cols))\n",
    "    fig, axes = plt.subplots(rows, cols, figsize=(cols*2.0, rows*2.2))\n",
    "    axes = np.atleast_1d(axes).reshape(rows, cols)\n",
    "    fig.suptitle(title, y=1.02, fontsize=12)\n",
    "\n",
    "    for i in range(n):\n",
    "        ax = axes[i // cols, i % cols]\n",
    "        ax.imshow(x[i].detach().cpu().squeeze(), cmap=\"gray\")\n",
    "        ok = (pred[i] == y[i]).item()\n",
    "        ax.set_title(\n",
    "            f\"pred {pred[i].item()} ({conf[i].item():.2f})\\ntrue {y[i].item()}\",\n",
    "            color=(\"tab:green\" if ok else \"tab:red\"),\n",
    "            fontsize=9\n",
    "        )\n",
    "        ax.axis(\"off\")\n",
    "    for j in range(n, rows*cols):\n",
    "        axes[j // cols, j % cols].axis(\"off\")\n",
    "    plt.tight_layout()\n",
    "    plt.show()\n",
    "\n",
    "    # Small textual readout of top-3 probabilities for the first few samples\n",
    "    for i in range(min(5, n)):\n",
    "        p = probs[i].detach().cpu().numpy()\n",
    "        top3 = p.argsort()[-3:][::-1]\n",
    "        print(f\"#{i}: true={y[i].item()}  pred={pred[i].item()}  \"\n",
    "              f\"conf={p[pred[i].item()]:.3f}  top3={[ (int(k), float(p[k])) for k in top3 ]}\")\n",
    "\n",
    "@torch.no_grad()\n",
    "def show_most_confident_mistakes(model, loader, device, k=8):\n",
    "    \"\"\"Show the k most confident *wrong* predictions encountered in loader.\"\"\"\n",
    "    model.eval()\n",
    "    wrong_imgs, wrong_y, wrong_pred, wrong_conf = [], [], [], []\n",
    "    for x, y in loader:\n",
    "        x, y = x.to(device), y.to(device)\n",
    "        probs = F.softmax(model(x), dim=1)\n",
    "        conf, pred = probs.max(1)\n",
    "        wrong = pred.ne(y)\n",
    "        if wrong.any():\n",
    "            idx = wrong.nonzero(as_tuple=False).squeeze(1)\n",
    "            # sort these wrong ones by confidence (desc)\n",
    "            order = conf[idx].argsort(descending=True)\n",
    "            idx = idx[order]\n",
    "            wrong_imgs.append(x[idx].detach().cpu())\n",
    "            wrong_y.append(y[idx].detach().cpu())\n",
    "            wrong_pred.append(pred[idx].detach().cpu())\n",
    "            wrong_conf.append(conf[idx].detach().cpu())\n",
    "        if sum(t.size(0) for t in wrong_imgs) >= k:\n",
    "            break\n",
    "\n",
    "    if not wrong_imgs:\n",
    "        print(\"No mistakes found in the scanned batches ✨\")\n",
    "        return\n",
    "\n",
    "    X = torch.cat(wrong_imgs)[:k]\n",
    "    Y = torch.cat(wrong_y)[:k]\n",
    "    P = torch.cat(wrong_pred)[:k]\n",
    "    C = torch.cat(wrong_conf)[:k]\n",
    "\n",
    "    cols = min(8, k)\n",
    "    rows = int(np.ceil(k / cols))\n",
    "    fig, axes = plt.subplots(rows, cols, figsize=(cols*2.0, rows*2.2))\n",
    "    axes = np.atleast_1d(axes).reshape(rows, cols)\n",
    "    fig.suptitle(\"Most confident mistakes\", y=1.02, fontsize=12)\n",
    "\n",
    "    for i in range(X.size(0)):\n",
    "        ax = axes[i // cols, i % cols]\n",
    "        ax.imshow(X[i].squeeze(), cmap=\"gray\")\n",
    "        ax.set_title(f\"pred {P[i].item()} ({C[i].item():.2f})\\ntrue {Y[i].item()}\",\n",
    "                     color=\"tab:red\", fontsize=9)\n",
    "        ax.axis(\"off\")\n",
    "    for j in range(X.size(0), rows*cols):\n",
    "        axes[j // cols, j % cols].axis(\"off\")\n",
    "    plt.tight_layout()\n",
    "    plt.show()"
   ]
  },
  {
   "cell_type": "markdown",
   "metadata": {
    "id": "Ky-KOYBA3i4R"
   },
   "source": [
    "We train the network for five epochs"
   ]
  },
  {
   "cell_type": "code",
   "execution_count": 9,
   "metadata": {
    "id": "YEQU9cIVzZth"
   },
   "outputs": [
    {
     "data": {
      "application/vnd.jupyter.widget-view+json": {
       "model_id": "faf506819c1244a3895531b7aa5be6ef",
       "version_major": 2,
       "version_minor": 0
      },
      "text/plain": [
       "  0%|          | 0/5 [00:00<?, ?epoch/s]"
      ]
     },
     "metadata": {},
     "output_type": "display_data"
    },
    {
     "data": {
      "application/vnd.jupyter.widget-view+json": {
       "model_id": "c4f99fe5c32e43a29c9bb2a5e229d48b",
       "version_major": 2,
       "version_minor": 0
      },
      "text/plain": [
       "  0%|          | 0/938 [00:00<?, ?it/s]"
      ]
     },
     "metadata": {},
     "output_type": "display_data"
    },
    {
     "name": "stdout",
     "output_type": "stream",
     "text": [
      "Accuracy train: 97.9%\t test: 97.3%\n"
     ]
    },
    {
     "data": {
      "application/vnd.jupyter.widget-view+json": {
       "model_id": "a29f684796f84e76afd12c4afa8a07dc",
       "version_major": 2,
       "version_minor": 0
      },
      "text/plain": [
       "  0%|          | 0/938 [00:00<?, ?it/s]"
      ]
     },
     "metadata": {},
     "output_type": "display_data"
    },
    {
     "name": "stdout",
     "output_type": "stream",
     "text": [
      "Accuracy train: 98.3%\t test: 97.7%\n"
     ]
    },
    {
     "data": {
      "application/vnd.jupyter.widget-view+json": {
       "model_id": "322535f2902a423ebb6feae35069b5cc",
       "version_major": 2,
       "version_minor": 0
      },
      "text/plain": [
       "  0%|          | 0/938 [00:00<?, ?it/s]"
      ]
     },
     "metadata": {},
     "output_type": "display_data"
    },
    {
     "name": "stdout",
     "output_type": "stream",
     "text": [
      "Accuracy train: 98.7%\t test: 97.8%\n"
     ]
    },
    {
     "data": {
      "application/vnd.jupyter.widget-view+json": {
       "model_id": "8da284de900949868fdb26e0d091711a",
       "version_major": 2,
       "version_minor": 0
      },
      "text/plain": [
       "  0%|          | 0/938 [00:00<?, ?it/s]"
      ]
     },
     "metadata": {},
     "output_type": "display_data"
    },
    {
     "name": "stdout",
     "output_type": "stream",
     "text": [
      "Accuracy train: 99.0%\t test: 97.8%\n"
     ]
    },
    {
     "data": {
      "application/vnd.jupyter.widget-view+json": {
       "model_id": "3280f6186b0d436f83753e1a5f42ca41",
       "version_major": 2,
       "version_minor": 0
      },
      "text/plain": [
       "  0%|          | 0/938 [00:00<?, ?it/s]"
      ]
     },
     "metadata": {},
     "output_type": "display_data"
    },
    {
     "name": "stdout",
     "output_type": "stream",
     "text": [
      "Accuracy train: 99.2%\t test: 96.7%\n"
     ]
    }
   ],
   "source": [
    "num_epochs = 5\n",
    "target_not_correct = {}\n",
    "for epoch in tqdm(range(num_epochs), unit='epoch'):\n",
    "    #For each epoch\n",
    "    train_correct = 0\n",
    "    for minibatch_no, (data, target) in tqdm(enumerate(train_loader), total=len(train_loader)):\n",
    "        data, target = data.to(device), target.to(device)\n",
    "        #Zero the gradients computed for each weight\n",
    "        optimizer.zero_grad()\n",
    "        #Forward pass your image through the network\n",
    "        output = model(data)\n",
    "        #Compute the loss\n",
    "        loss = F.nll_loss(torch.log(output), target)\n",
    "        #Backward pass through the network\n",
    "        loss.backward()\n",
    "        #Update the weights\n",
    "        optimizer.step()\n",
    "        \n",
    "        #Compute how many were correctly classified\n",
    "        predicted = output.argmax(1)\n",
    "        train_correct += (target==predicted).sum().cpu().item()\n",
    "    #Comput the test accuracy\n",
    "    test_correct = 0\n",
    "    target_not_correct = {}\n",
    "    for data, target in test_loader:\n",
    "        data = data.to(device)\n",
    "        with torch.no_grad():\n",
    "            output = model(data)\n",
    "        predicted = output.argmax(1).cpu()\n",
    "        test_correct += (target==predicted).sum().item()\n",
    "    train_acc = train_correct/len(trainset)\n",
    "    test_acc = test_correct/len(testset)\n",
    "    print(\"Accuracy train: {train:.1f}%\\t test: {test:.1f}%\".format(test=100*test_acc, train=100*train_acc))\n",
    "    # show_most_confident_mistakes(model, test_loader, device, k=100)"
   ]
  },
  {
   "cell_type": "markdown",
   "metadata": {
    "id": "Rq---Q6xzZtl"
   },
   "source": [
    "You should now have a model that has about 96% accuracy on the test set.\n",
    "Try to get an even better accuracy. You can\n",
    "* Change the number of hidden layers\n",
    "* Change the number of units in the hidden layers\n",
    "* Try changing the learning rate by factors of 10. What happens if it is too high or too low?\n",
    "* Try using sigmoid instead of ReLU activation. What happens?\n",
    "\n",
    "How large accuracy can you get? I got 98.7%\n",
    "\n",
    "Try showing the classification output (probabilities) from the model alongside the ground truth.\n",
    "\n",
    "* Which are classified correctly/incorrectly? \n",
    "* If it's incorrect, what is the second most likely class?\n",
    "* Do the misclassifications you see make sense? Why/why not?"
   ]
  },
  {
   "cell_type": "code",
   "execution_count": null,
   "metadata": {},
   "outputs": [],
   "source": []
  },
  {
   "cell_type": "code",
   "execution_count": null,
   "metadata": {},
   "outputs": [],
   "source": []
  }
 ],
 "metadata": {
  "accelerator": "GPU",
  "colab": {
   "collapsed_sections": [],
   "name": "Exercise 1.1.ipynb",
   "provenance": []
  },
  "kernelspec": {
   "display_name": "Python 3 (ipykernel)",
   "language": "python",
   "name": "python3"
  },
  "language_info": {
   "codemirror_mode": {
    "name": "ipython",
    "version": 3
   },
   "file_extension": ".py",
   "mimetype": "text/x-python",
   "name": "python",
   "nbconvert_exporter": "python",
   "pygments_lexer": "ipython3",
   "version": "3.11.13"
  }
 },
 "nbformat": 4,
 "nbformat_minor": 4
}
